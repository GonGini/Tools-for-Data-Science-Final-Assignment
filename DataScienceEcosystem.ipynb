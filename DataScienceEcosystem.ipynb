{
 "cells": [
  {
   "cell_type": "markdown",
   "id": "81801abc-f669-445e-9c07-9ada7f0ddcc5",
   "metadata": {},
   "source": [
    "# Data Science Tools and Ecosystem"
   ]
  },
  {
   "cell_type": "markdown",
   "id": "87211f53-a3cd-4ef9-bb51-1f18a2702381",
   "metadata": {},
   "source": [
    "In this notebook, Data Science Tools and Ecosystem are summarized."
   ]
  },
  {
   "cell_type": "markdown",
   "id": "ad6ea62c-c882-4016-a92f-840cce33924a",
   "metadata": {},
   "source": [
    "**Objectives:**\n",
    "* List popular languages for Data Science\n",
    "* List some libraries\n",
    "* Mention some open source tool\n",
    "* Write arithmetic expression\n",
    "* Solve simple problems using Python"
   ]
  },
  {
   "cell_type": "markdown",
   "id": "01da6bbf-17c9-49d1-9d58-9db764031f48",
   "metadata": {},
   "source": [
    "Some of the popular languages that Data Scientists use are:\n",
    "1. Python\n",
    "2. R\n",
    "3. Stata"
   ]
  },
  {
   "cell_type": "markdown",
   "id": "da27721c-8714-417c-b528-3c3df8138af8",
   "metadata": {},
   "source": [
    "Some of the commonly used libraries used by Data Scientists include:\n",
    "1. NumPy\n",
    "2. Pandas\n",
    "3. Matplotlib"
   ]
  },
  {
   "cell_type": "markdown",
   "id": "43c0321c-a6ec-4c0b-9dfe-414c3b1bccf4",
   "metadata": {},
   "source": [
    "|Data Science Tools|\n",
    "|------------------|\n",
    "|Jupyter Notebook|\n",
    "|Spyder|\n",
    "|Rodeo|\n"
   ]
  },
  {
   "cell_type": "markdown",
   "id": "d9b89947-6e23-413a-b569-5d48fa945f31",
   "metadata": {},
   "source": [
    "### Below are a few examples of evaluating arithmetic expressions in Python\n",
    "$ y = 2x + 3 $\n",
    "\n",
    "$ y = x^{2} - 1 $\n"
   ]
  },
  {
   "cell_type": "code",
   "execution_count": 1,
   "id": "586d25cd-05d4-4e93-8c64-917181b22215",
   "metadata": {},
   "outputs": [
    {
     "data": {
      "text/plain": [
       "17"
      ]
     },
     "execution_count": 1,
     "metadata": {},
     "output_type": "execute_result"
    }
   ],
   "source": [
    "# This a simple arithmetic expression to mutiply then add integers\n",
    "\n",
    "(3*4)+5"
   ]
  },
  {
   "cell_type": "code",
   "execution_count": 2,
   "id": "12eedf59-795a-4b2e-8128-f4bf75921e99",
   "metadata": {},
   "outputs": [
    {
     "data": {
      "text/plain": [
       "3.3333333333333335"
      ]
     },
     "execution_count": 2,
     "metadata": {},
     "output_type": "execute_result"
    }
   ],
   "source": [
    "#  This will convert 200 minutes to hours by diving by 60\n",
    "\n",
    "200/60"
   ]
  },
  {
   "cell_type": "markdown",
   "id": "96095a32-5c71-4fd4-8363-26b4db462e65",
   "metadata": {},
   "source": [
    "## Author\n",
    "Gonzalo Gini"
   ]
  },
  {
   "cell_type": "code",
   "execution_count": null,
   "id": "5cca14f3-5bd9-42f0-908f-45bd07ce19ac",
   "metadata": {},
   "outputs": [],
   "source": []
  }
 ],
 "metadata": {
  "kernelspec": {
   "display_name": "Python 3 (ipykernel)",
   "language": "python",
   "name": "python3"
  },
  "language_info": {
   "codemirror_mode": {
    "name": "ipython",
    "version": 3
   },
   "file_extension": ".py",
   "mimetype": "text/x-python",
   "name": "python",
   "nbconvert_exporter": "python",
   "pygments_lexer": "ipython3",
   "version": "3.11.9"
  }
 },
 "nbformat": 4,
 "nbformat_minor": 5
}
